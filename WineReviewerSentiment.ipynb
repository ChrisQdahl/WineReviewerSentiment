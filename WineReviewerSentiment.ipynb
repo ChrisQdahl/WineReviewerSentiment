{
 "cells": [
  {
   "cell_type": "markdown",
   "metadata": {},
   "source": [
    "# Wine reviewes & Sentiment analysis\n",
    "This notebook is only meant as a demonstration of sentiment analysis (SA) and linear regression and how they can be used in text analysis and predictive analytics. Further ideas for tackling the dataset is given in the conclusion.\n",
    "\n",
    "# Table of Contents\n",
    "1. [Introduction](#1)\n",
    "2. [Conclusion](#conclusion)\n",
    "3. [Packages and Data](#init)\n",
    "4. [Visualizing Data](#visualizing)\n",
    "5. [Sentiment analysis](#sentiment)\n",
    "6. [Model](#model)\n",
    "\n",
    "### Sentiment analysis in a nutshell <a id=\"1\"/>\n",
    "SA is a form of Machine Learning / AI. The goal of SA is to determine what the writer of af text thinks about a given object. The ratio of positive to negative words in a text is used to determine the texts polarity (positive vs. negative) and subjectivity (stating facts vs. oppinions)\n",
    "\n",
    "### Data\n",
    "[kaggle.com/zynicide/wine-reviews](https://www.kaggle.com/zynicide/wine-reviews) (credit: [zackthoutt](https://www.kaggle.com/zynicide))\n",
    "- 130k reviews scraped from [WineEnthusiast](https://www.winemag.com/?s=&drink_type=wine). Reviews are heavily skewed as only wines scoring 80+ points are included - which might affect the predictive powers of the model.\n",
    "- The dataset includes a range of features like winery and type of grape, but here we will only use the wine reviewers description and scoring of the wine\n",
    "\n",
    "## Conclusion <a id=\"conclusion\"/>\n",
    "Polarity alone does not seem to have a lot of predictive power in the model. Interesting next steps could be adding additional features, or turning the analysis into a classification problem by grouping point-scores and changing to a classification algorithms.\n",
    "\n",
    "Another interesting way to tackle the dataset could be from a taste-profiling / -preference angle. An approch to this would be clustering simular tastes/smells of a wine. Then trying to classify a winetasters taste given how he rated / described different types of wine."
   ]
  },
  {
   "cell_type": "markdown",
   "metadata": {},
   "source": [
    "### Importing packages and loading data <a id=\"init\"/>"
   ]
  },
  {
   "cell_type": "code",
   "execution_count": 1,
   "metadata": {},
   "outputs": [
    {
     "name": "stdout",
     "output_type": "stream",
     "text": [
      "pandas version: 0.23.0\n",
      "matplotlib version: 2.2.2\n",
      "textblob version: 0.15.2\n",
      "scikit learn version: 0.19.1\n"
     ]
    }
   ],
   "source": [
    "import pandas as pd # data wrangling and processing\n",
    "print(\"pandas version: {}\". format(pd.__version__))\n",
    "\n",
    "import matplotlib # data visualization\n",
    "import matplotlib.pyplot as plt\n",
    "print(\"matplotlib version: {}\". format(matplotlib.__version__))\n",
    "\n",
    "import textblob # sentiment extraction\n",
    "from textblob import TextBlob\n",
    "print(\"textblob version: {}\". format(textblob.__version__))\n",
    "\n",
    "import sklearn # machine learning algorithms and helper functions\n",
    "from sklearn.model_selection import train_test_split\n",
    "from sklearn.linear_model import LinearRegression\n",
    "print(\"scikit learn version: {}\". format(sklearn.__version__))"
   ]
  },
  {
   "cell_type": "code",
   "execution_count": 2,
   "metadata": {},
   "outputs": [],
   "source": [
    "# loading data\n",
    "data = pd.read_csv('winemag-data-130k-v2.csv')"
   ]
  },
  {
   "cell_type": "markdown",
   "metadata": {},
   "source": [
    "## Adding Polarity and Subjectivity features to data <a id=\"sentiment\"/>"
   ]
  },
  {
   "cell_type": "code",
   "execution_count": 3,
   "metadata": {},
   "outputs": [],
   "source": [
    "polarity = []\n",
    "subjectivity = []\n",
    "for i in data['description']:\n",
    "    polarity.append(TextBlob(i).sentiment.polarity)\n",
    "    subjectivity.append(TextBlob(i).sentiment.subjectivity)\n",
    "    \n",
    "data['polarity'] = polarity\n",
    "data['subjectivity'] = subjectivity"
   ]
  },
  {
   "cell_type": "code",
   "execution_count": 34,
   "metadata": {},
   "outputs": [
    {
     "data": {
      "text/plain": [
       "'This is dominated by oak and oak-driven aromas that include roasted coffee bean, espresso, coconut and vanilla that carry over to the palate, together with plum and chocolate. Astringent, drying tannins give it a rather abrupt finish.'"
      ]
     },
     "execution_count": 34,
     "metadata": {},
     "output_type": "execute_result"
    }
   ],
   "source": [
    "# example of description with subjectivity = 1\n",
    "data['description'].loc[data['subjectivity'] == 1][13]"
   ]
  },
  {
   "cell_type": "code",
   "execution_count": 38,
   "metadata": {},
   "outputs": [
    {
     "data": {
      "text/plain": [
       "'The wine is earthy and somewhat rustic. There is fruit but it is spoiled by a spicy pepper edge. Chill this drastically.'"
      ]
     },
     "execution_count": 38,
     "metadata": {},
     "output_type": "execute_result"
    }
   ],
   "source": [
    "#### example of description with subjectivity = 0\n",
    "data['description'].loc[data['subjectivity'] == 0][338]"
   ]
  },
  {
   "cell_type": "code",
   "execution_count": 36,
   "metadata": {},
   "outputs": [
    {
     "data": {
      "text/plain": [
       "'Aromas of yellow stone fruit, white spring flower and a whiff of citrus lift out of the glass. The soft round palate offers ripe apricot, yellow peach and a hint of candied nectarine zest.'"
      ]
     },
     "execution_count": 36,
     "metadata": {},
     "output_type": "execute_result"
    }
   ],
   "source": [
    "#### example of description with polarity = 0\n",
    "data['description'].loc[data['polarity'] == 0][107]"
   ]
  },
  {
   "cell_type": "code",
   "execution_count": 28,
   "metadata": {},
   "outputs": [
    {
     "data": {
      "text/plain": [
       "'Produced from organic grapes, the wine is ripe and packed with fruit. It has a delicious line of acidity, as well as weight and peach and red-fruit flavors. The acidity keeps the exuberance in check. Drink now.'"
      ]
     },
     "execution_count": 28,
     "metadata": {},
     "output_type": "execute_result"
    }
   ],
   "source": [
    "#### example of description with polarity = 1\n",
    "data['description'].loc[data['polarity'] == 1][1340]"
   ]
  },
  {
   "cell_type": "markdown",
   "metadata": {},
   "source": [
    "## Visualizing data <a id=\"visualizing\"/>"
   ]
  },
  {
   "cell_type": "code",
   "execution_count": 4,
   "metadata": {},
   "outputs": [
    {
     "data": {
      "image/png": "[encoded data removed]",
      "text/plain": [
       "<Figure size 1152x864 with 3 Axes>"
      ]
     },
     "metadata": {},
     "output_type": "display_data"
    }
   ],
   "source": [
    "plt.figure(figsize=[16,12])\n",
    "\n",
    "plt.subplot(231)\n",
    "x = data['points']\n",
    "plt.title('Points (Mean: {:.2f})'.format(x.mean()))\n",
    "plt.hist(x)\n",
    "plt.axvline(x.mean(), color='red')\n",
    "\n",
    "plt.subplot(232)\n",
    "x = data['polarity']\n",
    "plt.title('Polarity (Mean: {:.2f})'.format(x.mean()))\n",
    "plt.hist(x)\n",
    "plt.axvline(x.mean(), color='red')\n",
    "\n",
    "plt.subplot(233)\n",
    "x = data['subjectivity']\n",
    "plt.title('Subjectivity (Mean: {:.2f})'.format(x.mean()))\n",
    "plt.hist(x)\n",
    "plt.axvline(x.mean(), color='red')\n",
    "\n",
    "plt.show()"
   ]
  },
  {
   "cell_type": "markdown",
   "metadata": {},
   "source": [
    "Both target and features seems to be fairly normally distributed. We can observe that the subjectivity is centered around 0.5 meaning we should be able to extract some oppinions from the text."
   ]
  },
  {
   "cell_type": "code",
   "execution_count": 5,
   "metadata": {},
   "outputs": [
    {
     "data": {
      "image/png": "[encoded data removed]",
      "text/plain": [
       "<Figure size 432x288 with 1 Axes>"
      ]
     },
     "metadata": {},
     "output_type": "display_data"
    }
   ],
   "source": [
    "plt.scatter(x = data['polarity'],y=data['points'])\n",
    "plt.title('Correlation')\n",
    "plt.xlabel('Polarity')\n",
    "plt.ylabel('Points')\n",
    "plt.show()"
   ]
  },
  {
   "cell_type": "markdown",
   "metadata": {},
   "source": [
    "There seems to be a positive correlation between the polarity and the point scoring but not very clear. Lets focus on the reviews with a high degree of subjectivity, given by a subjectivity score of 1"
   ]
  },
  {
   "cell_type": "code",
   "execution_count": 6,
   "metadata": {},
   "outputs": [
    {
     "data": {
      "image/png": "[encoded data removed]",
      "text/plain": [
       "<Figure size 432x288 with 1 Axes>"
      ]
     },
     "metadata": {},
     "output_type": "display_data"
    }
   ],
   "source": [
    "plt.scatter(x = data['polarity'].loc[data['subjectivity'] == 1],y=data['points'].loc[data['subjectivity'] == 1])\n",
    "plt.title('Correlation (subjectivity = 1)')\n",
    "plt.xlabel('Polarity')\n",
    "plt.ylabel('Points')\n",
    "plt.show()"
   ]
  },
  {
   "cell_type": "markdown",
   "metadata": {},
   "source": [
    "## Model <a id=\"model\"/>"
   ]
  },
  {
   "cell_type": "code",
   "execution_count": 7,
   "metadata": {},
   "outputs": [],
   "source": [
    "# define y variable\n",
    "data_y = ['points']\n",
    "\n",
    "# define x variables\n",
    "data_x = ['polarity']\n",
    "\n",
    "# splitting data for cross validation purposes\n",
    "train_x, test_x, train_y, test_y = train_test_split(data[data_x].loc[data['subjectivity'] == 1], data[data_y].loc[data['subjectivity'] == 1], random_state=0)"
   ]
  },
  {
   "cell_type": "code",
   "execution_count": 13,
   "metadata": {},
   "outputs": [
    {
     "name": "stdout",
     "output_type": "stream",
     "text": [
      "Data Shape: (129971, 16)\n",
      "Train Shape: (355, 1)\n",
      "Test Shape: (119, 1)\n"
     ]
    }
   ],
   "source": [
    "# Introducing the constraint on subjectivity has greatly reduced the sample size\n",
    "print(\"Data Shape: {}\".format(data.shape))\n",
    "print(\"Train Shape: {}\".format(train_x.shape))\n",
    "print(\"Test Shape: {}\".format(test_x.shape))"
   ]
  },
  {
   "cell_type": "code",
   "execution_count": 9,
   "metadata": {},
   "outputs": [
    {
     "data": {
      "text/plain": [
       "LinearRegression(copy_X=True, fit_intercept=True, n_jobs=1, normalize=False)"
      ]
     },
     "execution_count": 9,
     "metadata": {},
     "output_type": "execute_result"
    }
   ],
   "source": [
    "# training the model\n",
    "reg = LinearRegression()\n",
    "reg.fit(train_x, train_y)"
   ]
  },
  {
   "cell_type": "code",
   "execution_count": 24,
   "metadata": {},
   "outputs": [
    {
     "name": "stdout",
     "output_type": "stream",
     "text": [
      "Model: 3.33x + 86.44\n",
      "\n",
      "Models predictive power: 0.11\n"
     ]
    }
   ],
   "source": [
    "# getting model parameters\n",
    "print(\"Model: {:.2f}x\".format(reg.coef_[0][0]) + \" + {:.2f}\".format(reg.intercept_[0]) + \"\\n\")\n",
    "\n",
    "# evaluating model\n",
    "print(\"Models predictive power: {:.2f}\".format(reg.score(test_x, test_y)))"
   ]
  }
 ],
 "metadata": {
  "kernelspec": {
   "display_name": "Python 3",
   "language": "python",
   "name": "python3"
  },
  "language_info": {
   "codemirror_mode": {
    "name": "ipython",
    "version": 3
   },
   "file_extension": ".py",
   "mimetype": "text/x-python",
   "name": "python",
   "nbconvert_exporter": "python",
   "pygments_lexer": "ipython3",
   "version": "3.6.5"
  }
 },
 "nbformat": 4,
 "nbformat_minor": 2
}
